{
 "cells": [
  {
   "cell_type": "code",
   "execution_count": 12,
   "metadata": {},
   "outputs": [],
   "source": [
    "# The public plotly graphs to include in the email. These can also be generated with `py.plot(figure, filename)`\n",
    "graphs = [\n",
    "    #First graph is a breakdown of all 311 requests into request type\n",
    "    'https://plot.ly/~phillipwong/2',\n",
    "    \n",
    "    #Second graph is how the requests were concentrated for each week of the year 2016\n",
    "    'https://plot.ly/~phillipwong/33',\n",
    "    \n",
    "    #Third graph is a breakdonw of request type for each specific week over the three years\n",
    "    'https://plot.ly/~phillipwong/37',\n",
    "    \n",
    "    #2015 Weekly comparison\n",
    "    'https://plot.ly/~phillipwong/49',\n",
    "    \n",
    "    #2016 Weekly comparison\n",
    "    'https://plot.ly/~phillipwong/41',\n",
    "    \n",
    "    #2017 weekly comparison\n",
    "    'https://plot.ly/~phillipwong/43',\n",
    "    \n",
    "    #2018 Weekly comparison\n",
    "    'https://plot.ly/~phillipwong/45',\n",
    "    \n",
    "    #2015-2018 Weekly Comparison\n",
    "    'https://plot.ly/~phillipwong/53'\n",
    "]"
   ]
  },
  {
   "cell_type": "code",
   "execution_count": 13,
   "metadata": {},
   "outputs": [
    {
     "data": {
      "text/html": [
       "This is a test of the 311 Email Service. This will be filled later with more details and information.<a href=\"https://plot.ly/~phillipwong/2\" target=\"_blank\"><img src=\"https://plot.ly/~phillipwong/2.png\"></a><br><a href=\"https://plot.ly/~phillipwong/2\" style=\"color: rgb(190,190,190); text-decoration: none; font-weight: 200;\" target=\"_blank\">Click to comment and see the interactive graph</a><br><hr><a href=\"https://plot.ly/~phillipwong/33\" target=\"_blank\"><img src=\"https://plot.ly/~phillipwong/33.png\"></a><br><a href=\"https://plot.ly/~phillipwong/33\" style=\"color: rgb(190,190,190); text-decoration: none; font-weight: 200;\" target=\"_blank\">Click to comment and see the interactive graph</a><br><hr><a href=\"https://plot.ly/~phillipwong/37\" target=\"_blank\"><img src=\"https://plot.ly/~phillipwong/37.png\"></a><br><a href=\"https://plot.ly/~phillipwong/37\" style=\"color: rgb(190,190,190); text-decoration: none; font-weight: 200;\" target=\"_blank\">Click to comment and see the interactive graph</a><br><hr><a href=\"https://plot.ly/~phillipwong/49\" target=\"_blank\"><img src=\"https://plot.ly/~phillipwong/49.png\"></a><br><a href=\"https://plot.ly/~phillipwong/49\" style=\"color: rgb(190,190,190); text-decoration: none; font-weight: 200;\" target=\"_blank\">Click to comment and see the interactive graph</a><br><hr><a href=\"https://plot.ly/~phillipwong/41\" target=\"_blank\"><img src=\"https://plot.ly/~phillipwong/41.png\"></a><br><a href=\"https://plot.ly/~phillipwong/41\" style=\"color: rgb(190,190,190); text-decoration: none; font-weight: 200;\" target=\"_blank\">Click to comment and see the interactive graph</a><br><hr><a href=\"https://plot.ly/~phillipwong/43\" target=\"_blank\"><img src=\"https://plot.ly/~phillipwong/43.png\"></a><br><a href=\"https://plot.ly/~phillipwong/43\" style=\"color: rgb(190,190,190); text-decoration: none; font-weight: 200;\" target=\"_blank\">Click to comment and see the interactive graph</a><br><hr><a href=\"https://plot.ly/~phillipwong/45\" target=\"_blank\"><img src=\"https://plot.ly/~phillipwong/45.png\"></a><br><a href=\"https://plot.ly/~phillipwong/45\" style=\"color: rgb(190,190,190); text-decoration: none; font-weight: 200;\" target=\"_blank\">Click to comment and see the interactive graph</a><br><hr><a href=\"https://plot.ly/~phillipwong/53\" target=\"_blank\"><img src=\"https://plot.ly/~phillipwong/53.png\"></a><br><a href=\"https://plot.ly/~phillipwong/53\" style=\"color: rgb(190,190,190); text-decoration: none; font-weight: 200;\" target=\"_blank\">Click to comment and see the interactive graph</a><br><hr>"
      ],
      "text/plain": [
       "<IPython.core.display.HTML object>"
      ]
     },
     "metadata": {},
     "output_type": "display_data"
    }
   ],
   "source": [
    "from IPython.display import display, HTML\n",
    "\n",
    "template = (''\n",
    "    '<a href=\"{graph_url}\" target=\"_blank\">' # Open the interactive graph when you click on the image\n",
    "        '<img src=\"{graph_url}.png\">'        # Use the \".png\" magic url so that the latest, most-up-to-date image is included\n",
    "    '</a>'\n",
    "    '{caption}'                              # Optional caption to include below the graph\n",
    "    '<br>'                                   # Line break\n",
    "    '<a href=\"{graph_url}\" style=\"color: rgb(190,190,190); text-decoration: none; font-weight: 200;\" target=\"_blank\">'\n",
    "        'Click to comment and see the interactive graph'  # Direct readers to Plotly for commenting, interactive graph\n",
    "    '</a>'\n",
    "    '<br>'\n",
    "    '<hr>'                                   # horizontal line\n",
    "'')\n",
    "\n",
    "email_body = 'This is a test of the 311 Email Service. This will be filled later with more details and information.'\n",
    "for graph in graphs:\n",
    "    _ = template\n",
    "    _ = _.format(graph_url=graph, caption='')\n",
    "    email_body += _\n",
    "\n",
    "display(HTML(email_body))"
   ]
  },
  {
   "cell_type": "code",
   "execution_count": 14,
   "metadata": {},
   "outputs": [],
   "source": [
    "me  = 'phillip.wong16@gmail.com'\n",
    "recipient = 'pwong@oxy.edu'\n",
    "subject = 'LA 311 Weekly Email Report'\n",
    "\n",
    "email_server_host = 'smtp.gmail.com'\n",
    "port = 587\n",
    "email_username = me\n",
    "email_password = '10375Melissa'"
   ]
  },
  {
   "cell_type": "code",
   "execution_count": 15,
   "metadata": {},
   "outputs": [],
   "source": [
    "import smtplib\n",
    "from email.mime.multipart import MIMEMultipart\n",
    "from email.mime.text import MIMEText\n",
    "import os\n",
    "\n",
    "msg = MIMEMultipart('alternative')\n",
    "msg['From'] = me\n",
    "msg['To'] = recipient\n",
    "msg['Subject'] = subject\n",
    "\n",
    "\n",
    "msg.attach(MIMEText(email_body, 'html'))\n",
    "\n",
    "server = smtplib.SMTP(email_server_host, port)\n",
    "server.ehlo()\n",
    "server.starttls()\n",
    "server.login(email_username, email_password)\n",
    "server.sendmail(me, recipient, msg.as_string())\n",
    "server.close()"
   ]
  }
 ],
 "metadata": {
  "kernelspec": {
   "display_name": "Python 3",
   "language": "python",
   "name": "python3"
  },
  "language_info": {
   "codemirror_mode": {
    "name": "ipython",
    "version": 3
   },
   "file_extension": ".py",
   "mimetype": "text/x-python",
   "name": "python",
   "nbconvert_exporter": "python",
   "pygments_lexer": "ipython3",
   "version": "3.6.4"
  }
 },
 "nbformat": 4,
 "nbformat_minor": 2
}
