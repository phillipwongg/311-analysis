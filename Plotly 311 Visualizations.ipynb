{
 "cells": [
  {
   "cell_type": "code",
   "execution_count": 2,
   "metadata": {},
   "outputs": [],
   "source": [
    "import plotly\n",
    "import plotly.tools as tls\n",
    "import cufflinks as cf\n",
    "import pandas as pd\n"
   ]
  },
  {
   "cell_type": "code",
   "execution_count": 3,
   "metadata": {},
   "outputs": [],
   "source": [
    "my_311 = pd.read_csv('311_no_empty_coordinates.csv')\n",
    "\n",
    "series = my_311['RequestType'].value_counts()"
   ]
  },
  {
   "cell_type": "code",
   "execution_count": 9,
   "metadata": {},
   "outputs": [
    {
     "data": {
      "text/html": [
       "<iframe id=\"igraph\" scrolling=\"no\" style=\"border:none;\" seamless=\"seamless\" src=\"https://plot.ly/~phillipwong/2.embed\" height=\"525px\" width=\"100%\"></iframe>"
      ],
      "text/plain": [
       "<plotly.tools.PlotlyDisplay object>"
      ]
     },
     "execution_count": 9,
     "metadata": {},
     "output_type": "execute_result"
    }
   ],
   "source": [
    "series.iplot(kind='bar', yTitle='Number of Complaints', title='LA 311 Complaints',\n",
    "             filename='LA311Requests')"
   ]
  },
  {
   "cell_type": "code",
   "execution_count": 10,
   "metadata": {},
   "outputs": [
    {
     "data": {
      "text/html": [
       "<div>\n",
       "<style scoped>\n",
       "    .dataframe tbody tr th:only-of-type {\n",
       "        vertical-align: middle;\n",
       "    }\n",
       "\n",
       "    .dataframe tbody tr th {\n",
       "        vertical-align: top;\n",
       "    }\n",
       "\n",
       "    .dataframe thead th {\n",
       "        text-align: right;\n",
       "    }\n",
       "</style>\n",
       "<table border=\"1\" class=\"dataframe\">\n",
       "  <thead>\n",
       "    <tr style=\"text-align: right;\">\n",
       "      <th>Week Number</th>\n",
       "      <th>1</th>\n",
       "      <th>2</th>\n",
       "      <th>3</th>\n",
       "      <th>4</th>\n",
       "      <th>5</th>\n",
       "      <th>6</th>\n",
       "      <th>7</th>\n",
       "      <th>8</th>\n",
       "      <th>9</th>\n",
       "      <th>10</th>\n",
       "      <th>...</th>\n",
       "      <th>44</th>\n",
       "      <th>45</th>\n",
       "      <th>46</th>\n",
       "      <th>47</th>\n",
       "      <th>48</th>\n",
       "      <th>49</th>\n",
       "      <th>50</th>\n",
       "      <th>51</th>\n",
       "      <th>52</th>\n",
       "      <th>53</th>\n",
       "    </tr>\n",
       "    <tr>\n",
       "      <th>Created Year</th>\n",
       "      <th></th>\n",
       "      <th></th>\n",
       "      <th></th>\n",
       "      <th></th>\n",
       "      <th></th>\n",
       "      <th></th>\n",
       "      <th></th>\n",
       "      <th></th>\n",
       "      <th></th>\n",
       "      <th></th>\n",
       "      <th></th>\n",
       "      <th></th>\n",
       "      <th></th>\n",
       "      <th></th>\n",
       "      <th></th>\n",
       "      <th></th>\n",
       "      <th></th>\n",
       "      <th></th>\n",
       "      <th></th>\n",
       "      <th></th>\n",
       "      <th></th>\n",
       "    </tr>\n",
       "  </thead>\n",
       "  <tbody>\n",
       "    <tr>\n",
       "      <th>2015</th>\n",
       "      <td>NaN</td>\n",
       "      <td>NaN</td>\n",
       "      <td>NaN</td>\n",
       "      <td>NaN</td>\n",
       "      <td>NaN</td>\n",
       "      <td>NaN</td>\n",
       "      <td>NaN</td>\n",
       "      <td>NaN</td>\n",
       "      <td>NaN</td>\n",
       "      <td>NaN</td>\n",
       "      <td>...</td>\n",
       "      <td>11629.0</td>\n",
       "      <td>10915.0</td>\n",
       "      <td>10256.0</td>\n",
       "      <td>10638.0</td>\n",
       "      <td>8275.0</td>\n",
       "      <td>11628.0</td>\n",
       "      <td>11229.0</td>\n",
       "      <td>9930.0</td>\n",
       "      <td>7322.0</td>\n",
       "      <td>7373.0</td>\n",
       "    </tr>\n",
       "    <tr>\n",
       "      <th>2016</th>\n",
       "      <td>13079.0</td>\n",
       "      <td>15895.0</td>\n",
       "      <td>15863.0</td>\n",
       "      <td>15817.0</td>\n",
       "      <td>16751.0</td>\n",
       "      <td>16271.0</td>\n",
       "      <td>14840.0</td>\n",
       "      <td>18892.0</td>\n",
       "      <td>17917.0</td>\n",
       "      <td>16938.0</td>\n",
       "      <td>...</td>\n",
       "      <td>19278.0</td>\n",
       "      <td>16994.0</td>\n",
       "      <td>19365.0</td>\n",
       "      <td>13355.0</td>\n",
       "      <td>19054.0</td>\n",
       "      <td>19190.0</td>\n",
       "      <td>18168.0</td>\n",
       "      <td>16027.0</td>\n",
       "      <td>17598.0</td>\n",
       "      <td>1006.0</td>\n",
       "    </tr>\n",
       "    <tr>\n",
       "      <th>2017</th>\n",
       "      <td>18081.0</td>\n",
       "      <td>18873.0</td>\n",
       "      <td>18629.0</td>\n",
       "      <td>20685.0</td>\n",
       "      <td>22172.0</td>\n",
       "      <td>19408.0</td>\n",
       "      <td>17982.0</td>\n",
       "      <td>18753.0</td>\n",
       "      <td>22609.0</td>\n",
       "      <td>21224.0</td>\n",
       "      <td>...</td>\n",
       "      <td>16030.0</td>\n",
       "      <td>19465.0</td>\n",
       "      <td>12579.0</td>\n",
       "      <td>44.0</td>\n",
       "      <td>6408.0</td>\n",
       "      <td>20465.0</td>\n",
       "      <td>21895.0</td>\n",
       "      <td>19050.0</td>\n",
       "      <td>15612.0</td>\n",
       "      <td>NaN</td>\n",
       "    </tr>\n",
       "    <tr>\n",
       "      <th>2018</th>\n",
       "      <td>19607.0</td>\n",
       "      <td>21753.0</td>\n",
       "      <td>23432.0</td>\n",
       "      <td>22871.0</td>\n",
       "      <td>22713.0</td>\n",
       "      <td>23974.0</td>\n",
       "      <td>20732.0</td>\n",
       "      <td>19010.0</td>\n",
       "      <td>21149.0</td>\n",
       "      <td>23774.0</td>\n",
       "      <td>...</td>\n",
       "      <td>NaN</td>\n",
       "      <td>NaN</td>\n",
       "      <td>NaN</td>\n",
       "      <td>NaN</td>\n",
       "      <td>NaN</td>\n",
       "      <td>NaN</td>\n",
       "      <td>NaN</td>\n",
       "      <td>NaN</td>\n",
       "      <td>NaN</td>\n",
       "      <td>NaN</td>\n",
       "    </tr>\n",
       "  </tbody>\n",
       "</table>\n",
       "<p>4 rows × 53 columns</p>\n",
       "</div>"
      ],
      "text/plain": [
       "Week Number        1        2        3        4        5        6        7   \\\n",
       "Created Year                                                                  \n",
       "2015              NaN      NaN      NaN      NaN      NaN      NaN      NaN   \n",
       "2016          13079.0  15895.0  15863.0  15817.0  16751.0  16271.0  14840.0   \n",
       "2017          18081.0  18873.0  18629.0  20685.0  22172.0  19408.0  17982.0   \n",
       "2018          19607.0  21753.0  23432.0  22871.0  22713.0  23974.0  20732.0   \n",
       "\n",
       "Week Number        8        9        10   ...         44       45       46  \\\n",
       "Created Year                              ...                                \n",
       "2015              NaN      NaN      NaN   ...    11629.0  10915.0  10256.0   \n",
       "2016          18892.0  17917.0  16938.0   ...    19278.0  16994.0  19365.0   \n",
       "2017          18753.0  22609.0  21224.0   ...    16030.0  19465.0  12579.0   \n",
       "2018          19010.0  21149.0  23774.0   ...        NaN      NaN      NaN   \n",
       "\n",
       "Week Number        47       48       49       50       51       52      53  \n",
       "Created Year                                                                \n",
       "2015          10638.0   8275.0  11628.0  11229.0   9930.0   7322.0  7373.0  \n",
       "2016          13355.0  19054.0  19190.0  18168.0  16027.0  17598.0  1006.0  \n",
       "2017             44.0   6408.0  20465.0  21895.0  19050.0  15612.0     NaN  \n",
       "2018              NaN      NaN      NaN      NaN      NaN      NaN     NaN  \n",
       "\n",
       "[4 rows x 53 columns]"
      ]
     },
     "execution_count": 10,
     "metadata": {},
     "output_type": "execute_result"
    }
   ],
   "source": [
    "df1 = my_311.loc[my_311['Created Year'] == 2015]\n",
    "a = df1.groupby(['Created Year', 'Week Number']).size().unstack()\n",
    "\n",
    "df2 = my_311.loc[my_311['Created Year'] == 2016]\n",
    "b = df2.groupby(['Created Year', 'Week Number']).size().unstack()\n",
    "\n",
    "\n",
    "df3 = my_311.loc[my_311['Created Year'] == 2017]\n",
    "c = df3.groupby(['Created Year', 'Week Number']).size().unstack()\n",
    "\n",
    "\n",
    "df4 = my_311.loc[my_311['Created Year'] == 2018]\n",
    "d = df4.groupby(['Created Year', 'Week Number']).size().unstack()\n",
    "\n",
    "df = pd.concat([a,b,c,d], axis=0).sort_index()\n",
    "df"
   ]
  },
  {
   "cell_type": "code",
   "execution_count": 11,
   "metadata": {},
   "outputs": [
    {
     "name": "stdout",
     "output_type": "stream",
     "text": [
      "Input Week Number:12\n"
     ]
    },
    {
     "data": {
      "text/html": [
       "<iframe id=\"igraph\" scrolling=\"no\" style=\"border:none;\" seamless=\"seamless\" src=\"https://plot.ly/~phillipwong/4.embed\" height=\"525px\" width=\"100%\"></iframe>"
      ],
      "text/plain": [
       "<plotly.tools.PlotlyDisplay object>"
      ]
     },
     "execution_count": 11,
     "metadata": {},
     "output_type": "execute_result"
    }
   ],
   "source": [
    "#Change in Total Requests from a specific week over the course of 3 years\n",
    "x = int(input('Input Week Number:'))\n",
    "d = df[x]\n",
    "d.iplot(kind = 'bar', yTitle='Number of Complaints', title='LA 311 Week Comparisons',\n",
    "             filename='LA311WeekNumberComparisons')"
   ]
  },
  {
   "cell_type": "code",
   "execution_count": 13,
   "metadata": {},
   "outputs": [
    {
     "name": "stdout",
     "output_type": "stream",
     "text": [
      "For what week number would you like to see the Request Types? Options: any number between 1 and 53 43\n"
     ]
    },
    {
     "data": {
      "text/html": [
       "<iframe id=\"igraph\" scrolling=\"no\" style=\"border:none;\" seamless=\"seamless\" src=\"https://plot.ly/~phillipwong/4.embed\" height=\"525px\" width=\"100%\"></iframe>"
      ],
      "text/plain": [
       "<plotly.tools.PlotlyDisplay object>"
      ]
     },
     "execution_count": 13,
     "metadata": {},
     "output_type": "execute_result"
    }
   ],
   "source": [
    "#Service Request Types by Specific Weeks\n",
    "x = int(input('For what week number would you like to see the Request Types? Options: any number between 1 and 53 '))\n",
    "df = my_311.loc[my_311['Week Number'] == x]\n",
    "ok = df.groupby(['Week Number', 'RequestType']).size().unstack()\n",
    "ok.iplot(kind = 'bar', yTitle='Number of Complaints', title='LA 311 Request Types by Week',\n",
    "             filename='LA311Requests by Week')"
   ]
  },
  {
   "cell_type": "code",
   "execution_count": 28,
   "metadata": {},
   "outputs": [
    {
     "name": "stdout",
     "output_type": "stream",
     "text": [
      "For what year would you like to see the Request Types? Options: 2015 to 2018 2016\n"
     ]
    },
    {
     "data": {
      "text/html": [
       "<iframe id=\"igraph\" scrolling=\"no\" style=\"border:none;\" seamless=\"seamless\" src=\"https://plot.ly/~phillipwong/33.embed\" height=\"525px\" width=\"100%\"></iframe>"
      ],
      "text/plain": [
       "<plotly.tools.PlotlyDisplay object>"
      ]
     },
     "execution_count": 28,
     "metadata": {},
     "output_type": "execute_result"
    }
   ],
   "source": [
    "#Concentration of Requests Grouped by Week over the course of a year\n",
    "x = int(input('For what year would you like to see the Request Types? Options: 2015 to 2018 '))\n",
    "df = my_311.loc[my_311['Created Year'] == x]\n",
    "group = df.groupby(['Created Year', 'Week Number']).size().unstack()\n",
    "group.iplot(kind = 'bar', yTitle='Number of Complaints ', title='LA 311 Week Number Concentration',\n",
    "             filename='LA311 Requests Week Number Concentrations')"
   ]
  },
  {
   "cell_type": "code",
   "execution_count": 31,
   "metadata": {},
   "outputs": [
    {
     "data": {
      "text/html": [
       "<iframe id=\"igraph\" scrolling=\"no\" style=\"border:none;\" seamless=\"seamless\" src=\"https://plot.ly/~phillipwong/37.embed\" height=\"525px\" width=\"100%\"></iframe>"
      ],
      "text/plain": [
       "<plotly.tools.PlotlyDisplay object>"
      ]
     },
     "execution_count": 31,
     "metadata": {},
     "output_type": "execute_result"
    }
   ],
   "source": [
    "group = my_311.groupby(['Week Number', 'RequestType']).size().unstack()\n",
    "group.iplot(kind = 'bar', barmode = 'stack', title = '311 All Requests for Weeks', filename= '311 All Requests for Weeks')"
   ]
  },
  {
   "cell_type": "code",
   "execution_count": 4,
   "metadata": {
    "scrolled": true
   },
   "outputs": [
    {
     "name": "stderr",
     "output_type": "stream",
     "text": [
      "/anaconda3/lib/python3.6/site-packages/plotly/plotly/plotly.py:224: UserWarning:\n",
      "\n",
      "Woah there! Look at all those points! Due to browser limitations, the Plotly SVG drawing functions have a hard time graphing more than 500k data points for line charts, or 40k points for other types of charts. Here are some suggestions:\n",
      "(1) Use the `plotly.graph_objs.Scattergl` trace object to generate a WebGl graph.\n",
      "(2) Trying using the image API to return an image instead of a graph URL\n",
      "(3) Use matplotlib\n",
      "(4) See if you can create your visualization with fewer data points\n",
      "\n",
      "If the visualization you're using aggregates points (e.g., box plot, histogram, etc.) you can disregard this warning.\n",
      "\n"
     ]
    },
    {
     "data": {
      "text/html": [
       "<iframe id=\"igraph\" scrolling=\"no\" style=\"border:none;\" seamless=\"seamless\" src=\"https://plot.ly/~phillipwong/57.embed\" height=\"525px\" width=\"100%\"></iframe>"
      ],
      "text/plain": [
       "<plotly.tools.PlotlyDisplay object>"
      ]
     },
     "execution_count": 4,
     "metadata": {},
     "output_type": "execute_result"
    }
   ],
   "source": [
    "df = my_311.loc[my_311['Created Year'] == 2017]\n",
    "wow = df['Week Number']\n",
    "wow.iplot(kind = 'histogram', yTitle='Number of Complaints', title='LA 311 Request Types by Week',\n",
    "             filename='LA311Requests by Week')"
   ]
  },
  {
   "cell_type": "code",
   "execution_count": null,
   "metadata": {},
   "outputs": [],
   "source": []
  }
 ],
 "metadata": {
  "kernelspec": {
   "display_name": "Python 3",
   "language": "python",
   "name": "python3"
  },
  "language_info": {
   "codemirror_mode": {
    "name": "ipython",
    "version": 3
   },
   "file_extension": ".py",
   "mimetype": "text/x-python",
   "name": "python",
   "nbconvert_exporter": "python",
   "pygments_lexer": "ipython3",
   "version": "3.6.4"
  }
 },
 "nbformat": 4,
 "nbformat_minor": 2
}
